{
 "cells": [
  {
   "cell_type": "code",
   "execution_count": 1,
   "metadata": {},
   "outputs": [
    {
     "data": {
      "text/plain": [
       "'/device:DML:0'"
      ]
     },
     "execution_count": 1,
     "metadata": {},
     "output_type": "execute_result"
    }
   ],
   "source": [
    "# Code to allow GPU access\n",
    "import tensorflow.compat.v1 as tf \n",
    "tf.enable_eager_execution(tf.ConfigProto(log_device_placement=False)) \n",
    "tf.test.gpu_device_name()"
   ]
  },
  {
   "cell_type": "code",
   "execution_count": 2,
   "metadata": {},
   "outputs": [],
   "source": [
    "import numpy as np\n",
    "from sklearn.model_selection import KFold\n",
    "from itertools import product\n",
    "import numpy as np\n",
    "from tensorflow.keras.models import Sequential\n",
    "from tensorflow.keras.layers import Conv1D, MaxPooling1D, Flatten, Dense, Dropout\n",
    "from sklearn.model_selection import KFold\n",
    "# import early stopping\n",
    "from tensorflow.keras.callbacks import EarlyStopping\n",
    "import pickle\n"
   ]
  },
  {
   "cell_type": "code",
   "execution_count": 3,
   "metadata": {},
   "outputs": [],
   "source": [
    "# open accelData pickle\n",
    "with open('Pickles/accelData.pickle', 'rb') as handle:\n",
    "    accelData = pickle.load(handle)"
   ]
  },
  {
   "cell_type": "code",
   "execution_count": 4,
   "metadata": {},
   "outputs": [
    {
     "name": "stdout",
     "output_type": "stream",
     "text": [
      "dict_keys(['Measurements', 'Month', 'Code', 'Abnormal', 'AIMS', 'Optimality', 'Normalised', 'Segmented Normalised', 'Segmented'])\n"
     ]
    }
   ],
   "source": [
    "print(accelData.keys())"
   ]
  },
  {
   "cell_type": "code",
   "execution_count": 5,
   "metadata": {},
   "outputs": [
    {
     "name": "stdout",
     "output_type": "stream",
     "text": [
      "(161, 184217, 17)\n",
      "(161, 184217, 17)\n",
      "(161, 1842, 100, 17)\n",
      "(161, 1842, 100, 17)\n"
     ]
    }
   ],
   "source": [
    "# Generate four different feature datasets from the following lists:\n",
    "# accelData['Measurements'], accelData['Normalised'], accelData['Segmented Normalised'], accelData['Segmented']\n",
    "\n",
    "# Start with unsegmented data\n",
    "\n",
    "# 1. accelData['Measurements']\n",
    "X_measurements = np.array(accelData['Measurements'])\n",
    "\n",
    "# 2. accelData['Normalised']\n",
    "X_normalised = np.array(accelData['Normalised'])\n",
    "\n",
    "# 3. accelData['Segmented Normalised']\n",
    "X_segmented_normalised = np.array(accelData['Segmented Normalised'])\n",
    "\n",
    "# 4. accelData['Segmented']\n",
    "X_segmented = np.array(accelData['Segmented'])\n",
    "\n",
    "# Print shapes of X_measurements and X_normalised\n",
    "print(X_measurements.shape)\n",
    "print(X_normalised.shape)\n",
    "\n",
    "# Print shapes of X_segmented_normalised and X_segmented\n",
    "print(X_segmented_normalised.shape)\n",
    "print(X_segmented.shape)\n",
    "\n"
   ]
  },
  {
   "cell_type": "code",
   "execution_count": 6,
   "metadata": {},
   "outputs": [
    {
     "name": "stdout",
     "output_type": "stream",
     "text": [
      "(161,)\n",
      "(161,)\n",
      "(161,)\n"
     ]
    }
   ],
   "source": [
    "# Create models for multitask prediction. I want model to be able to predict optimality, abnormal and AIMS\n",
    "optimality = np.array(accelData['Optimality'])\n",
    "abnormal = np.array(accelData['Abnormal'])\n",
    "AIMS = np.array(accelData['AIMS'])\n",
    "\n",
    "print(optimality.shape)\n",
    "print(abnormal.shape)\n",
    "print(AIMS.shape)\n",
    "\n",
    "from tensorflow.compat.v1.keras.utils import to_categorical\n",
    "\n",
    "# One hot encoding of Y_train and Y_test\n",
    "abnormal_encoded = to_categorical(abnormal, num_classes=3)"
   ]
  },
  {
   "cell_type": "code",
   "execution_count": 7,
   "metadata": {},
   "outputs": [],
   "source": [
    "# Save each dataset to a pickle file, to reduce memory usage. Only load into memory each dataset when needed\n",
    "with open('Pickles/X_measurements.pickle', 'wb') as handle:\n",
    "    pickle.dump(X_measurements, handle, protocol=pickle.HIGHEST_PROTOCOL)\n",
    "\n",
    "with open('Pickles/X_normalised.pickle', 'wb') as handle:\n",
    "    pickle.dump(X_normalised, handle, protocol=pickle.HIGHEST_PROTOCOL)\n",
    "\n",
    "with open('Pickles/X_segmented_normalised.pickle', 'wb') as handle:\n",
    "    pickle.dump(X_segmented_normalised, handle, protocol=pickle.HIGHEST_PROTOCOL)\n",
    "\n",
    "with open('Pickles/X_segmented.pickle', 'wb') as handle:\n",
    "    pickle.dump(X_segmented, handle, protocol=pickle.HIGHEST_PROTOCOL)\n",
    "\n",
    "with open('Pickles/optimality.pickle', 'wb') as handle:\n",
    "    pickle.dump(optimality, handle, protocol=pickle.HIGHEST_PROTOCOL)\n",
    "\n",
    "with open('Pickles/abnormal.pickle', 'wb') as handle:\n",
    "    pickle.dump(abnormal, handle, protocol=pickle.HIGHEST_PROTOCOL)\n",
    "\n",
    "with open('Pickles/AIMS.pickle', 'wb') as handle:\n",
    "    pickle.dump(AIMS, handle, protocol=pickle.HIGHEST_PROTOCOL)\n",
    "\n",
    "# Delete variables to free up memory\n",
    "del X_measurements\n",
    "del X_normalised\n",
    "del X_segmented_normalised\n",
    "del X_segmented\n",
    "del optimality\n",
    "del abnormal\n",
    "del AIMS\n",
    "del accelData\n"
   ]
  },
  {
   "cell_type": "code",
   "execution_count": 3,
   "metadata": {},
   "outputs": [],
   "source": [
    "def create_model(filters=32, kernel_size=3, dropout_rate=0.5):\n",
    "    model = Sequential()\n",
    "    model.add(Conv1D(filters, kernel_size, activation='relu', input_shape=(184217, 17)))\n",
    "    model.add(MaxPooling1D(2))\n",
    "    model.add(Dropout(dropout_rate))\n",
    "    model.add(Flatten())\n",
    "    model.add(Dense(50, activation='relu'))  # Reduced the number of neurons in the dense layer\n",
    "    model.add(Dropout(dropout_rate))\n",
    "    model.add(Dense(3, activation='softmax'))\n",
    "    model.compile(optimizer='adam', loss='categorical_crossentropy', metrics=['accuracy'])\n",
    "    return model"
   ]
  },
  {
   "cell_type": "code",
   "execution_count": 3,
   "metadata": {},
   "outputs": [],
   "source": [
    "from tensorflow.compat.v1.keras.utils import to_categorical\n",
    "\n",
    " # Load in dataset from pickle\n",
    "with open('Pickles/abnormal.pickle', 'rb') as handle:\n",
    "    abnormal = pickle.load(handle)\n",
    "\n",
    "# One hot encoding of Y_train and Y_test\n",
    "abnormal_encoded = to_categorical(abnormal, num_classes=3)\n",
    "\n",
    "# dump abnormal_encoded\n",
    "with open('Pickles/abnormal_encoded.pickle', 'wb') as handle:\n",
    "    pickle.dump(abnormal_encoded, handle, protocol=pickle.HIGHEST_PROTOCOL)"
   ]
  },
  {
   "cell_type": "code",
   "execution_count": 4,
   "metadata": {},
   "outputs": [
    {
     "name": "stdout",
     "output_type": "stream",
     "text": [
      "Working on dataset: X_measurements\n",
      "Working on fold: 1\n",
      "Fitting model\n",
      "Train on 102 samples, validate on 26 samples\n",
      "Epoch 1/10\n"
     ]
    },
    {
     "ename": "",
     "evalue": "",
     "output_type": "error",
     "traceback": [
      "\u001b[1;31mThe Kernel crashed while executing code in the current cell or a previous cell. \n",
      "\u001b[1;31mPlease review the code in the cell(s) to identify a possible cause of the failure. \n",
      "\u001b[1;31mClick <a href='https://aka.ms/vscodeJupyterKernelCrash'>here</a> for more info. \n",
      "\u001b[1;31mView Jupyter <a href='command:jupyter.viewOutput'>log</a> for further details."
     ]
    }
   ],
   "source": [
    "# Parameters to be recorded, along with standard deviation:\n",
    "# Accuracy \n",
    "# Sensitivity(Recall) \n",
    "# False Positive Rate \n",
    "# Specificity \n",
    "# Precision\n",
    "\n",
    "# Create a nested dictionary to store the results\n",
    "dataset_results = {'X_measurements': {}, 'X_normalised': {}}\n",
    "\n",
    " # Load in dataset from pickle\n",
    "with open('Pickles/abnormal_encoded.pickle', 'rb') as handle:\n",
    "    abnormal_encoded = pickle.load(handle)\n",
    "\n",
    "def train_and_evaluate():\n",
    "\n",
    "    outer_cv = KFold(n_splits=5, shuffle=True, random_state=42)\n",
    "    \n",
    "    # Find best dataset to train and test model on\n",
    "    dataset_names = ['X_measurements', 'X_normalised']   \n",
    "\n",
    "    for dataset_name in dataset_names:\n",
    "\n",
    "         # Load in dataset from pickle\n",
    "        with open(f'Pickles/{dataset_name}.pickle', 'rb') as handle:\n",
    "            dataset = pickle.load(handle)\n",
    "\n",
    "        print(f'Working on dataset: {dataset_name}')\n",
    "\n",
    "        accuracies = []\n",
    "        sensitivities = []\n",
    "        false_positive_rates = []\n",
    "        specificities = []\n",
    "        precisions = []\n",
    "\n",
    "        fold = 1\n",
    "\n",
    "        for train_index, test_index in outer_cv.split(dataset):\n",
    "\n",
    "            # Print current progress\n",
    "            print(f'Working on fold: {fold}')\n",
    "            fold += 1\n",
    "            \n",
    "            X_train, X_test = dataset[train_index], dataset[test_index]\n",
    "            Y_train, Y_test = abnormal_encoded[train_index], abnormal_encoded[test_index]\n",
    "            \n",
    "            model = create_model()\n",
    "            early_stopping = EarlyStopping(monitor='val_loss', patience=5)\n",
    "            \n",
    "            #Fit the model\n",
    "            print('Fitting model')\n",
    "            model.fit(X_train, Y_train, epochs=10, batch_size=32, validation_split=0.2, callbacks=[early_stopping], verbose=1)\n",
    "\n",
    "            # Predict the test set\n",
    "            print('Predicting test set')\n",
    "            Y_pred = model.predict(X_test)\n",
    "            \n",
    "            # Calulate accuracy, sensitivity, false positive rate, specificity and precision\n",
    "            accuracies.append(accuracy_score(Y_test, Y_pred))\n",
    "            sensitivities.append(recall_score(Y_test, Y_pred))\n",
    "            false_positive_rates.append(1 - specificity_score(Y_test, Y_pred))\n",
    "            specificities.append(specificity_score(Y_test, Y_pred))\n",
    "            precisions.append(precision_score(Y_test, Y_pred))\n",
    "\n",
    "            # Add code to clear keras backend\n",
    "            tf.keras.backend.clear_session()\n",
    "\n",
    "        avg_accuracy = np.mean(accuracies)\n",
    "        avg_sensitivity = np.mean(sensitivities)\n",
    "        avg_false_positive_rate = np.mean(false_positive_rates)\n",
    "        avg_specificity = np.mean(specificities)\n",
    "        avg_precision = np.mean(precisions)\n",
    "\n",
    "        std_accuracy = np.std(accuracies)\n",
    "        std_sensitivity = np.std(sensitivities)\n",
    "        std_false_positive_rate = np.std(false_positive_rates)\n",
    "        std_specificity = np.std(specificities)\n",
    "        std_precision = np.std(precisions)\n",
    "\n",
    "        dataset_results[dataset_name]['Accuracy'] = (avg_accuracy, std_accuracy)\n",
    "        dataset_results[dataset_name]['Sensitivity'] = (avg_sensitivity, std_sensitivity)\n",
    "        dataset_results[dataset_name]['False Positive Rate'] = (avg_false_positive_rate, std_false_positive_rate)\n",
    "        dataset_results[dataset_name]['Specificity'] = (avg_specificity, std_specificity)\n",
    "        dataset_results[dataset_name]['Precision'] = (avg_precision, std_precision)\n",
    "\n",
    "        # Delete dataset to free up memory\n",
    "        del dataset\n",
    "\n",
    "train_and_evaluate()\n",
    "print(dataset_results)\n",
    "\n",
    "        \n"
   ]
  },
  {
   "cell_type": "code",
   "execution_count": null,
   "metadata": {},
   "outputs": [],
   "source": []
  }
 ],
 "metadata": {
  "kernelspec": {
   "display_name": "Python 3",
   "language": "python",
   "name": "python3"
  },
  "language_info": {
   "codemirror_mode": {
    "name": "ipython",
    "version": 3
   },
   "file_extension": ".py",
   "mimetype": "text/x-python",
   "name": "python",
   "nbconvert_exporter": "python",
   "pygments_lexer": "ipython3",
   "version": "3.7.8"
  }
 },
 "nbformat": 4,
 "nbformat_minor": 2
}
