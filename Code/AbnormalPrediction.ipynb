{
  "cells": [
    {
      "cell_type": "markdown",
      "metadata": {
        "id": "view-in-github",
        "colab_type": "text"
      },
      "source": [
        "<a href=\"https://colab.research.google.com/github/holly-hewitt/Abnormal-Infant-Movement-Detection/blob/main/Code/DataSetTestingClean.ipynb\" target=\"_parent\"><img src=\"https://colab.research.google.com/assets/colab-badge.svg\" alt=\"Open In Colab\"/></a>"
      ]
    },
    {
      "cell_type": "code",
      "execution_count": null,
      "metadata": {
        "id": "T4ilQacfTSVa"
      },
      "outputs": [],
      "source": [
        "#import tensorflow.compat.v1 as tf\n",
        "#tf.enable_eager_execution(tf.ConfigProto(log_device_placement=False))\n",
        "#tf.test.gpu_device_name()\n",
        "\n",
        "import numpy as np\n",
        "from sklearn.model_selection import KFold\n",
        "from itertools import product\n",
        "import numpy as np\n",
        "from tensorflow.keras.models import Sequential\n",
        "from tensorflow.keras.layers import Conv1D, MaxPooling1D, Flatten, Dense, Dropout, Masking, LSTM, GRU\n",
        "from sklearn.model_selection import KFold\n",
        "# import early stopping\n",
        "from tensorflow.keras.callbacks import EarlyStopping\n",
        "import pickle\n",
        "from sklearn.metrics import accuracy_score, recall_score, precision_score\n",
        "from sklearn.utils import class_weight\n",
        "\n",
        "from tensorflow.keras.layers import Input, Concatenate, Permute, Reshape, Multiply, Lambda, Add\n",
        "from tensorflow.keras import backend as K\n",
        "from tensorflow.keras.models import Model"
      ]
    },
    {
      "cell_type": "code",
      "source": [
        "from google.colab import drive\n",
        "drive.mount('/content/drive')"
      ],
      "metadata": {
        "colab": {
          "base_uri": "https://localhost:8080/"
        },
        "id": "cCwbTCmKTYQQ",
        "outputId": "7d511abb-9bcb-4138-829c-2e117cf341e5"
      },
      "execution_count": null,
      "outputs": [
        {
          "output_type": "stream",
          "name": "stdout",
          "text": [
            "Drive already mounted at /content/drive; to attempt to forcibly remount, call drive.mount(\"/content/drive\", force_remount=True).\n"
          ]
        }
      ]
    },
    {
      "cell_type": "code",
      "source": [
        "def specificity_score(y_true, y_pred):\n",
        "\n",
        "    # Convert probabilities to binary predictions\n",
        "    y_pred_bin = np.argmax(y_pred, axis=1)\n",
        "    y_true_bin = np.argmax(y_true, axis=1)\n",
        "\n",
        "    tn = np.sum((y_true_bin == 0) & (y_pred_bin == 0))\n",
        "    fp = np.sum((y_true_bin == 0) & (y_pred_bin != 0))\n",
        "    specificity = tn / (tn + fp) if (tn + fp) != 0 else 0\n",
        "    return specificity"
      ],
      "metadata": {
        "id": "g4GzeYlTUia-"
      },
      "execution_count": null,
      "outputs": []
    },
    {
      "cell_type": "code",
      "execution_count": null,
      "metadata": {
        "id": "BVVJb1gkTSVb"
      },
      "outputs": [],
      "source": [
        "def train_and_evaluate(dataset_names, create_model_fn, class_weights):\n",
        "\n",
        "    outer_cv = KFold(n_splits=3, shuffle=True, random_state=42)\n",
        "\n",
        "    # Find best dataset to train and test model on\n",
        "    #dataset_names = ['X_smoothed_mean_norm']\n",
        "\n",
        "    for dataset_name in dataset_names:\n",
        "\n",
        "         # Load in dataset from pickle\n",
        "        with open(f'drive/MyDrive/Pickles/{dataset_name}.pickle', 'rb') as handle:\n",
        "            dataset = pickle.load(handle)\n",
        "\n",
        "        dataset = np.array(dataset)\n",
        "\n",
        "        print(f'Working on dataset: {dataset_name}')\n",
        "\n",
        "        accuracies = []\n",
        "        sensitivities = []\n",
        "        false_positive_rates = []\n",
        "        specificities = []\n",
        "        precisions = []\n",
        "\n",
        "        fold = 1\n",
        "\n",
        "        for train_index, test_index in outer_cv.split(dataset):\n",
        "\n",
        "            # Print current progress\n",
        "            print(f'Working on fold: {fold}')\n",
        "            fold += 1\n",
        "\n",
        "            X_train, X_test = dataset[train_index], dataset[test_index]\n",
        "            Y_train, Y_test = abnormal_encoded[train_index], abnormal_encoded[test_index]\n",
        "\n",
        "            X_train = X_train.astype('float32')\n",
        "            Y_train = Y_train.astype('float32')\n",
        "            X_test = X_test.astype('float32')\n",
        "            Y_test = Y_test.astype('float32')\n",
        "\n",
        "            model = create_model_fn(X_train.shape[1:])\n",
        "            early_stopping = EarlyStopping(monitor='val_loss', patience=3)\n",
        "\n",
        "            if class_weights:\n",
        "\n",
        "                Y_train_classes = np.argmax(Y_train, axis=1)\n",
        "\n",
        "                # Compute class weights\n",
        "                cw = class_weight.compute_class_weight('balanced',\n",
        "                                                    classes=np.unique(Y_train_classes),\n",
        "                                                    y=Y_train_classes)\n",
        "\n",
        "                class_weights_dict = dict(enumerate(cw))\n",
        "\n",
        "                #Fit the model\n",
        "                print('Fitting model')\n",
        "                model.fit(X_train, Y_train, epochs=5, batch_size=4, validation_split=0.2, callbacks=[early_stopping], verbose=1, class_weight=class_weights_dict)\n",
        "\n",
        "            else:\n",
        "                #Fit the model\n",
        "                print('Fitting model')\n",
        "                model.fit(X_train, Y_train, epochs=5, batch_size=4, validation_split=0.2, callbacks=[early_stopping], verbose=1)\n",
        "\n",
        "            # Predict the test set\n",
        "            print('Predicting test set')\n",
        "            Y_pred = model.predict(X_test)\n",
        "\n",
        "            Y_pred_classes = np.argmax(Y_pred, axis=1)\n",
        "            Y_test_classes = np.argmax(Y_test, axis=1)\n",
        "\n",
        "            # Calulate accuracy, sensitivity, false positive rate, specificity and precision\n",
        "            accuracies.append(accuracy_score(Y_test_classes, Y_pred_classes))\n",
        "            sensitivities.append(recall_score(Y_test_classes, Y_pred_classes, average='macro'))\n",
        "            false_positive_rates.append(1 - specificity_score(Y_test, Y_pred))\n",
        "            specificities.append(specificity_score(Y_test, Y_pred))\n",
        "            precisions.append(precision_score(Y_test_classes, Y_pred_classes, average='macro'))\n",
        "\n",
        "\n",
        "\n",
        "        avg_accuracy = np.mean(accuracies)\n",
        "        avg_sensitivity = np.mean(sensitivities)\n",
        "        avg_false_positive_rate = np.mean(false_positive_rates)\n",
        "        avg_specificity = np.mean(specificities)\n",
        "        avg_precision = np.mean(precisions)\n",
        "\n",
        "        std_accuracy = np.std(accuracies)\n",
        "        std_sensitivity = np.std(sensitivities)\n",
        "        std_false_positive_rate = np.std(false_positive_rates)\n",
        "        std_specificity = np.std(specificities)\n",
        "        std_precision = np.std(precisions)\n",
        "\n",
        "        dataset_results[dataset_name]['Accuracy'] = (avg_accuracy, std_accuracy)\n",
        "        dataset_results[dataset_name]['Sensitivity'] = (avg_sensitivity, std_sensitivity)\n",
        "        dataset_results[dataset_name]['False Positive Rate'] = (avg_false_positive_rate, std_false_positive_rate)\n",
        "        dataset_results[dataset_name]['Specificity'] = (avg_specificity, std_specificity)\n",
        "        dataset_results[dataset_name]['Precision'] = (avg_precision, std_precision)\n",
        "\n",
        "        for dataset_name, results in dataset_results.items():\n",
        "            print(f'Dataset: {dataset_name}')\n",
        "            for metric, (avg, std) in results.items():\n",
        "                print(f'{metric}: {avg} +/- {std}')\n",
        "            print('\\n')\n",
        "\n",
        "\n",
        "        # Delete dataset to free up memory\n",
        "        del dataset\n",
        "        del Y_pred\n",
        "    return dataset_results"
      ]
    },
    {
      "cell_type": "code",
      "execution_count": null,
      "metadata": {
        "id": "gL1-AspcTSVb"
      },
      "outputs": [],
      "source": [
        "# Model functions\n",
        "\n",
        "def create_cnn_model(shape, filters=32, kernel_size=3, dropout_rate=0.5):\n",
        "    model = Sequential()\n",
        "    model.add(Masking(mask_value=0., input_shape=shape))  # Adjust the input_shape to match your dataset\n",
        "    model.add(Conv1D(filters, kernel_size, activation='relu', input_shape=(19301, 16)))\n",
        "    model.add(MaxPooling1D(2))\n",
        "    model.add(Flatten())\n",
        "    model.add(Dense(32, activation='relu'))  # Reduced the number of neurons in the dense layer\n",
        "    model.add(Dense(3, activation='softmax'))\n",
        "    model.compile(optimizer='adam', loss='categorical_crossentropy', metrics=['accuracy'])\n",
        "    return model\n",
        "\n",
        "def create_lstm_model(shape, lstm_units=32, dropout_rate=0.5, output_classes=3):\n",
        "    model = Sequential()\n",
        "    model.add(Masking(mask_value=0., input_shape=shape))\n",
        "    model.add(LSTM(lstm_units, return_sequences=False))  # 'return_sequences=False' because we only need the last output\n",
        "    model.add(Dropout(dropout_rate))\n",
        "    model.add(Dense(lstm_units, activation='relu'))\n",
        "    model.add(Dense(output_classes, activation='softmax'))\n",
        "    model.compile(optimizer='adam', loss='categorical_crossentropy', metrics=['accuracy'])\n",
        "    return model\n",
        "\n",
        "def create_gru_model(shape, gru_units=32, dropout_rate=0.5, output_classes=3):\n",
        "    model = Sequential()\n",
        "    model.add(Masking(mask_value=0., input_shape=shape))\n",
        "    model.add(GRU(gru_units, return_sequences=False))  # return_sequences=False because we only need the last output\n",
        "    model.add(Dropout(dropout_rate))\n",
        "    model.add(Dense(gru_units, activation='relu'))\n",
        "    model.add(Dense(output_classes, activation='softmax'))\n",
        "    model.compile(optimizer='adam', loss='categorical_crossentropy', metrics=['accuracy'])\n",
        "    return model\n",
        "\n",
        "def create_cnn_lstm_model(shape, filters=32, kernel_size=3, lstm_units=64, dropout_rate=0.5, output_classes=3):\n",
        "    model = Sequential()\n",
        "    model.add(Masking(mask_value=0., input_shape=shape))\n",
        "    model.add(Conv1D(filters, kernel_size, activation='relu'))\n",
        "    model.add(MaxPooling1D(2))\n",
        "    model.add(LSTM(lstm_units, return_sequences=False))\n",
        "    model.add(Dropout(dropout_rate))\n",
        "    model.add(Dense(lstm_units, activation='relu'))\n",
        "    model.add(Dense(output_classes, activation='softmax'))\n",
        "    model.compile(optimizer='adam', loss='categorical_crossentropy', metrics=['accuracy'])\n",
        "    return model\n",
        "\n",
        "def create_cnn_gru_model(shape, filters=32, kernel_size=3, gru_units=64, dropout_rate=0.5, output_classes=3):\n",
        "    model = Sequential()\n",
        "    model.add(Masking(mask_value=0., input_shape=shape))\n",
        "    model.add(Conv1D(filters, kernel_size, activation='relu'))\n",
        "    model.add(MaxPooling1D(2))\n",
        "    model.add(GRU(gru_units, return_sequences=False))\n",
        "    model.add(Dropout(dropout_rate))\n",
        "    model.add(Dense(gru_units, activation='relu'))\n",
        "    model.add(Dense(output_classes, activation='softmax'))\n",
        "    model.compile(optimizer='adam', loss='categorical_crossentropy', metrics=['accuracy'])\n",
        "    return model\n",
        "\n",
        "def create_lstm_attention_model(shape, lstm_units=64, dropout_rate=0.5, output_classes=3):\n",
        "    inputs = Input(shape=shape)\n",
        "    lstm_out = LSTM(lstm_units, return_sequences=True)(inputs)\n",
        "    attention = Dense(1, activation='tanh')(lstm_out)\n",
        "    attention = Flatten()(attention)\n",
        "    attention = Activation('softmax')(attention)\n",
        "    attention = RepeatVector(lstm_units)(attention)\n",
        "    attention = Permute([2, 1])(attention)\n",
        "    sent_representation = Multiply()([lstm_out, attention])\n",
        "    sent_representation = Lambda(lambda xin: K.sum(xin, axis=-2), output_shape=(lstm_units,))(sent_representation)\n",
        "    dropout = Dropout(dropout_rate)(sent_representation)\n",
        "    dense = Dense(lstm_units, activation='relu')(dropout)\n",
        "    outputs = Dense(output_classes, activation='softmax')(dense)\n",
        "    model = Model(inputs=inputs, outputs=outputs)\n",
        "    model.compile(optimizer='adam', loss='categorical_crossentropy', metrics=['accuracy'])\n",
        "    return model\n",
        "\n"
      ]
    },
    {
      "cell_type": "code",
      "source": [
        " # Load in dataset from pickle\n",
        "with open('drive/MyDrive/Pickles/abnormal_encoded.pickle', 'rb') as handle:\n",
        "    abnormal_encoded = pickle.load(handle)\n",
        "dataset_results = {'X_smoothed_mean_norm_month': {}, 'X_smoothed_median_norm_month': {}, 'X_smoothed_mean_norm': {}, 'X_smoothed_median_norm': {}}"
      ],
      "metadata": {
        "id": "-YsRAY00UNnG"
      },
      "execution_count": null,
      "outputs": []
    },
    {
      "cell_type": "code",
      "execution_count": null,
      "metadata": {
        "id": "zVb3aj0TTSVb"
      },
      "outputs": [],
      "source": [
        "\n",
        "\n",
        "cnn_dataset_result_cw = train_and_evaluate(['X_smoothed_mean_norm', 'X_smoothed_mean_norm_month','X_smoothed_median_norm', 'X_smoothed_median_norm_month'], create_cnn_model, True)\n",
        "\n"
      ]
    },
    {
      "cell_type": "code",
      "source": [
        "cnn_dataset_result_ncw = train_and_evaluate(['X_smoothed_mean_norm', 'X_smoothed_mean_norm_month','X_smoothed_median_norm', 'X_smoothed_median_norm_month'], create_cnn_model, False)\n"
      ],
      "metadata": {
        "id": "oAqA0aGXUBTp"
      },
      "execution_count": null,
      "outputs": []
    },
    {
      "cell_type": "code",
      "source": [
        "lstm_dataset_results_cw = train_and_evaluate(['X_smoothed_mean_norm', 'X_smoothed_mean_norm_month','X_smoothed_median_norm', 'X_smoothed_median_norm_month'], create_lstm_model, True)\n"
      ],
      "metadata": {
        "id": "MBAgX9CTT5ec"
      },
      "execution_count": null,
      "outputs": []
    },
    {
      "cell_type": "code",
      "source": [
        "lstm_dataset_results_ncw = train_and_evaluate(['X_smoothed_mean_norm', 'X_smoothed_mean_norm_month','X_smoothed_median_norm', 'X_smoothed_median_norm_month'], create_lstm_model, False)\n"
      ],
      "metadata": {
        "id": "YrOkYfJUWFVU"
      },
      "execution_count": null,
      "outputs": []
    },
    {
      "cell_type": "code",
      "source": [
        "gru_dataset_results_cw = train_and_evaluate(['X_smoothed_mean_norm', 'X_smoothed_mean_norm_month','X_smoothed_median_norm', 'X_smoothed_median_norm_month'], create_gru_model, True)\n"
      ],
      "metadata": {
        "id": "bm2O6QumT5q6"
      },
      "execution_count": null,
      "outputs": []
    },
    {
      "cell_type": "code",
      "source": [
        "gru_dataset_results_ncw = train_and_evaluate(['X_smoothed_mean_norm', 'X_smoothed_mean_norm_month','X_smoothed_median_norm', 'X_smoothed_median_norm_month'], create_gru_model, False)\n"
      ],
      "metadata": {
        "id": "V5dVcbIDWX9S"
      },
      "execution_count": null,
      "outputs": []
    },
    {
      "cell_type": "code",
      "source": [
        "cnn_lstm_results_ncw = train_and_evaluate(['X_smoothed_mean_norm', 'X_smoothed_mean_norm_month','X_smoothed_median_norm', 'X_smoothed_median_norm_month'],create_cnn_lstm_model,False)"
      ],
      "metadata": {
        "id": "ftl5SgVVXONE"
      },
      "execution_count": null,
      "outputs": []
    },
    {
      "cell_type": "code",
      "source": [
        "cnn_gru_results_ncw = train_and_evaluate(['X_smoothed_mean_norm', 'X_smoothed_mean_norm_month','X_smoothed_median_norm', 'X_smoothed_median_norm_month'],create_cnn_gru_model,False)"
      ],
      "metadata": {
        "id": "NuboM1_Rmr0Y"
      },
      "execution_count": null,
      "outputs": []
    },
    {
      "cell_type": "code",
      "source": [
        "lstm_attention_results_ncw = train_and_evaluate(['X_smoothed_mean_norm', 'X_smoothed_mean_norm_month','X_smoothed_median_norm', 'X_smoothed_median_norm_month'],create_lstm_attention_model,False)"
      ],
      "metadata": {
        "id": "Rd9JnSlY1Xys"
      },
      "execution_count": null,
      "outputs": []
    }
  ],
  "metadata": {
    "language_info": {
      "name": "python"
    },
    "colab": {
      "provenance": [],
      "include_colab_link": true
    },
    "kernelspec": {
      "name": "python3",
      "display_name": "Python 3"
    }
  },
  "nbformat": 4,
  "nbformat_minor": 0
}
